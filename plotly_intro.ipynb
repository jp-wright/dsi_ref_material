{
 "cells": [
  {
   "cell_type": "markdown",
   "metadata": {},
   "source": [
    "# Intro to Plotly\n",
    "\n",
    "This is intended to be a crash course in using plotly that will give you just enough to complete the afternoon assignement.  Much more can be done with plotly beyond the absolute basics shown in this notebook and I encourage you to check out some of the possibilitys [here](https://plot.ly/python/).\n",
    "\n",
    "First thing we need to do is install Plotly using `pip`...\n",
    "\n",
    "```bash\n",
    "pip install plotly\n",
    "```\n",
    "\n",
    "Or we could simply upgrade plotly if we already have an out-of-date version installed...\n",
    "\n",
    "```bash\n",
    "pip install plotly --upgrade\n",
    "```\n",
    "\n",
    "For this demo we will be creating a simple scatter plot in an offline Jupyter notebook.  We also need to create a [Plotly account](https://plot.ly/feed/) to get our API keys.  Once we have our API keys we can configure our computer to automatically read these keys in when using plotly like so...\n",
    "\n",
    "```python\n",
    "# We need to configure our system to use our API keys which you will find in\n",
    "# the API keys section of the settings of your Plotly account\n",
    "# NOTE: This only needs to be done once\n",
    "import plotly.tools as tls\n",
    "tls.set_credentials_file(username='your_username', api_key='your_api_key')\n",
    "```\n",
    "\n",
    "Now let's dive in and make a really simple scatter plot...\n",
    "\n",
    "\n",
    "### Further information\n",
    "\n",
    "[Getting Started with Plotly](https://plot.ly/python/getting-started/) \n",
    "\n",
    "[Python Scatter Plots](https://plot.ly/python/line-and-scatter/)"
   ]
  },
  {
   "cell_type": "code",
   "execution_count": 1,
   "metadata": {
    "collapsed": true
   },
   "outputs": [],
   "source": [
    "import numpy as np\n",
    "import pandas as pd\n",
    "\n",
    "# First let's read in some data\n",
    "df = pd.read_csv('data/balance.csv')\n",
    "\n",
    "# Get rid of the index columns\n",
    "df.drop('Unnamed: 0', axis=1, inplace=True)"
   ]
  },
  {
   "cell_type": "code",
   "execution_count": 2,
   "metadata": {
    "collapsed": true
   },
   "outputs": [],
   "source": [
    "# Import in plotly\n",
    "import plotly.plotly as py\n",
    "import plotly.graph_objs as go"
   ]
  },
  {
   "cell_type": "code",
   "execution_count": 3,
   "metadata": {
    "collapsed": false
   },
   "outputs": [
    {
     "data": {
      "text/html": [
       "<iframe id=\"igraph\" scrolling=\"no\" style=\"border:none;\" seamless=\"seamless\" src=\"https://plot.ly/~ewellinger/12.embed\" height=\"525px\" width=\"100%\"></iframe>"
      ],
      "text/plain": [
       "<plotly.tools.PlotlyDisplay object>"
      ]
     },
     "execution_count": 3,
     "metadata": {},
     "output_type": "execute_result"
    }
   ],
   "source": [
    "# Let's create a scatter plot of Income vs. Limit\n",
    "\n",
    "# First let's create a trace\n",
    "trace = go.Scatter(\n",
    "    x = df['Income'],\n",
    "    y = df['Limit'],\n",
    "    mode = 'markers'\n",
    ")\n",
    "\n",
    "data = [trace]\n",
    "\n",
    "# Configure our Layout\n",
    "layout = go.Layout(\n",
    "    title='Income Vs. Credit Limit',\n",
    "    xaxis=dict(title= 'Income'),\n",
    "    yaxis=dict(title= 'Credit Limit')\n",
    ")\n",
    "\n",
    "# Create the figure\n",
    "fig = go.Figure(data=data, layout=layout)\n",
    "\n",
    "# Plot and embed in ipython notebook!\n",
    "py.iplot(fig, filename='Income-vs-Limit')"
   ]
  },
  {
   "cell_type": "markdown",
   "metadata": {},
   "source": [
    "# Going a little further...\n",
    "\n",
    "## Histograms\n",
    "\n",
    "For more info see [this histogram tutorial](https://plot.ly/python/histogram-tutorial/).\n",
    "\n",
    "For our first histogram let's plot the percentage of points that fall in each bin:"
   ]
  },
  {
   "cell_type": "code",
   "execution_count": 4,
   "metadata": {
    "collapsed": false
   },
   "outputs": [
    {
     "data": {
      "text/html": [
       "<iframe id=\"igraph\" scrolling=\"no\" style=\"border:none;\" seamless=\"seamless\" src=\"https://plot.ly/~ewellinger/32.embed\" height=\"600px\" width=\"700px\"></iframe>"
      ],
      "text/plain": [
       "<plotly.tools.PlotlyDisplay object>"
      ]
     },
     "execution_count": 4,
     "metadata": {},
     "output_type": "execute_result"
    }
   ],
   "source": [
    "x_data = df['Limit']\n",
    "num_bins = 15\n",
    "tr = go.Histogram(x=x_data, histnorm='probability', \n",
    "                xbins=dict(start=x_data.min(), \n",
    "                           size= (x_data.max() - x_data.min()) / num_bins, \n",
    "                           end= x_data.max()),\n",
    "                marker=dict(color='rgba(93, 164, 214, 0.5)'))\n",
    "\n",
    "data = [tr]\n",
    "\n",
    "title = \"Probability Histogram of Income\"\n",
    "\n",
    "layout = dict(\n",
    "            title=title,\n",
    "            autosize= True,\n",
    "            bargap= 0.015,\n",
    "            height= 600,\n",
    "            width= 700,       \n",
    "            hovermode= 'x',\n",
    "            xaxis=dict(\n",
    "                title= 'Income',\n",
    "                autorange= True,\n",
    "                zeroline= False),\n",
    "            yaxis= dict(\n",
    "                title= 'Percent of Data in Bin',\n",
    "                autorange= True,\n",
    "                showticklabels= True,\n",
    "           ))\n",
    "\n",
    "fig1 = go.Figure(data=data, layout=layout)\n",
    "py.iplot(fig1)"
   ]
  },
  {
   "cell_type": "markdown",
   "metadata": {},
   "source": [
    "We could also drop off the `histnorm` argument to just get the counts of points in a particular bin:"
   ]
  },
  {
   "cell_type": "code",
   "execution_count": 5,
   "metadata": {
    "collapsed": false
   },
   "outputs": [
    {
     "data": {
      "text/html": [
       "<iframe id=\"igraph\" scrolling=\"no\" style=\"border:none;\" seamless=\"seamless\" src=\"https://plot.ly/~ewellinger/34.embed\" height=\"600px\" width=\"700px\"></iframe>"
      ],
      "text/plain": [
       "<plotly.tools.PlotlyDisplay object>"
      ]
     },
     "execution_count": 5,
     "metadata": {},
     "output_type": "execute_result"
    }
   ],
   "source": [
    "x_data = df['Limit']\n",
    "num_bins = 15\n",
    "tr = go.Histogram(x=x_data,\n",
    "                xbins=dict(start=x_data.min(), \n",
    "                           size= (x_data.max() - x_data.min()) / num_bins, \n",
    "                           end= x_data.max()),\n",
    "                marker=dict(color='rgba(93, 164, 214, 0.5)'))\n",
    "\n",
    "data = [tr]\n",
    "\n",
    "title = \"Histogram without specifying 'histnorm'\"\n",
    "\n",
    "layout = dict(\n",
    "            title=title,\n",
    "            autosize= True,\n",
    "            bargap= 0.015,\n",
    "            height= 600,\n",
    "            width= 700,       \n",
    "            hovermode= 'x',\n",
    "            xaxis=dict(\n",
    "                title= 'Income',\n",
    "                autorange= True,\n",
    "                zeroline= False),\n",
    "            yaxis= dict(\n",
    "                title= 'Number of Points in Bin',\n",
    "                autorange= True,\n",
    "                showticklabels= True,\n",
    "           ))\n",
    "\n",
    "fig1 = go.Figure(data=data, layout=layout)\n",
    "py.iplot(fig1)"
   ]
  },
  {
   "cell_type": "markdown",
   "metadata": {},
   "source": [
    "## Box Plots\n",
    "\n",
    "For more information view this [Box Plot tutorial](https://plot.ly/python/box-plots/)"
   ]
  },
  {
   "cell_type": "code",
   "execution_count": 6,
   "metadata": {
    "collapsed": false
   },
   "outputs": [
    {
     "data": {
      "text/html": [
       "<iframe id=\"igraph\" scrolling=\"no\" style=\"border:none;\" seamless=\"seamless\" src=\"https://plot.ly/~ewellinger/36.embed\" height=\"525px\" width=\"100%\"></iframe>"
      ],
      "text/plain": [
       "<plotly.tools.PlotlyDisplay object>"
      ]
     },
     "execution_count": 6,
     "metadata": {},
     "output_type": "execute_result"
    }
   ],
   "source": [
    "ethnicities = df['Ethnicity'].unique()\n",
    "data = [df.loc[df['Ethnicity']==eth, 'Limit'] for eth in ethnicities]\n",
    "\n",
    "# Some random colors to use\n",
    "colors = ['rgba(93, 164, 214, 0.5)', 'rgba(255, 144, 14, 0.5)', \n",
    "          'rgba(44, 160, 101, 0.5)', 'rgba(255, 65, 54, 0.5)', \n",
    "          'rgba(207, 114, 255, 0.5)', 'rgba(127, 96, 0, 0.5)']\n",
    "\n",
    "trs = []\n",
    "for eth, income, c in zip(ethnicities, data, colors):\n",
    "    tr = go.Box(\n",
    "        y=income,\n",
    "        name=eth,\n",
    "        marker=dict(color=c)\n",
    "    )\n",
    "    trs.append(tr)\n",
    "    \n",
    "py.iplot(trs)"
   ]
  },
  {
   "cell_type": "markdown",
   "metadata": {},
   "source": [
    "We could also plot a jitter scatter of our data next to the box plot..."
   ]
  },
  {
   "cell_type": "code",
   "execution_count": 7,
   "metadata": {
    "collapsed": false
   },
   "outputs": [
    {
     "data": {
      "text/html": [
       "<iframe id=\"igraph\" scrolling=\"no\" style=\"border:none;\" seamless=\"seamless\" src=\"https://plot.ly/~ewellinger/38.embed\" height=\"525px\" width=\"100%\"></iframe>"
      ],
      "text/plain": [
       "<plotly.tools.PlotlyDisplay object>"
      ]
     },
     "execution_count": 7,
     "metadata": {},
     "output_type": "execute_result"
    }
   ],
   "source": [
    "ethnicities = df['Ethnicity'].unique()\n",
    "data = [df.loc[df['Ethnicity']==eth, 'Limit'] for eth in ethnicities]\n",
    "\n",
    "# Some random colors to use\n",
    "colors = ['rgba(93, 164, 214, 0.5)', 'rgba(255, 144, 14, 0.5)', \n",
    "          'rgba(44, 160, 101, 0.5)', 'rgba(255, 65, 54, 0.5)', \n",
    "          'rgba(207, 114, 255, 0.5)', 'rgba(127, 96, 0, 0.5)']\n",
    "\n",
    "trs = []\n",
    "for eth, income, c in zip(ethnicities, data, colors):\n",
    "    tr = go.Box(\n",
    "        y=income,\n",
    "        name=eth,\n",
    "        marker=dict(color=c),\n",
    "        boxpoints='all',\n",
    "        jitter=0.4\n",
    "    )\n",
    "    trs.append(tr)\n",
    "    \n",
    "py.iplot(trs)"
   ]
  },
  {
   "cell_type": "code",
   "execution_count": null,
   "metadata": {
    "collapsed": true
   },
   "outputs": [],
   "source": []
  }
 ],
 "metadata": {
  "anaconda-cloud": {},
  "kernelspec": {
   "display_name": "Python [conda root]",
   "language": "python",
   "name": "conda-root-py"
  },
  "language_info": {
   "codemirror_mode": {
    "name": "ipython",
    "version": 2
   },
   "file_extension": ".py",
   "mimetype": "text/x-python",
   "name": "python",
   "nbconvert_exporter": "python",
   "pygments_lexer": "ipython2",
   "version": "2.7.12"
  }
 },
 "nbformat": 4,
 "nbformat_minor": 1
}
